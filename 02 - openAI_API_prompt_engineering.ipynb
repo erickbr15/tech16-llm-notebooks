{
  "nbformat": 4,
  "nbformat_minor": 0,
  "metadata": {
    "colab": {
      "provenance": []
    },
    "kernelspec": {
      "name": "python3",
      "display_name": "Python 3"
    },
    "language_info": {
      "name": "python"
    }
  },
  "cells": [
    {
      "cell_type": "markdown",
      "source": [],
      "metadata": {
        "id": "1u7XJI1iakcA"
      }
    },
    {
      "cell_type": "markdown",
      "source": [
        "## Task 02 - openAI API - Prompt engineering\n",
        "### Erick Badillo"
      ],
      "metadata": {
        "id": "ElfAa1PXafmu"
      }
    },
    {
      "cell_type": "code",
      "execution_count": null,
      "metadata": {
        "id": "_hZG2rWaTTZt"
      },
      "outputs": [],
      "source": [
        "from google.colab import userdata\n",
        "api_key = userdata.get('openai-secret')"
      ]
    },
    {
      "cell_type": "code",
      "source": [
        "!pip install openai"
      ],
      "metadata": {
        "colab": {
          "base_uri": "https://localhost:8080/"
        },
        "id": "YsxhAUxXTdEs",
        "outputId": "985700c6-f075-4be2-98f0-9954209c934a"
      },
      "execution_count": null,
      "outputs": [
        {
          "output_type": "stream",
          "name": "stdout",
          "text": [
            "Collecting openai\n",
            "  Downloading openai-1.12.0-py3-none-any.whl (226 kB)\n",
            "\u001b[?25l     \u001b[90m━━━━━━━━━━━━━━━━━━━━━━━━━━━━━━━━━━━━━━━━\u001b[0m \u001b[32m0.0/226.7 kB\u001b[0m \u001b[31m?\u001b[0m eta \u001b[36m-:--:--\u001b[0m\r\u001b[2K     \u001b[91m━━━━━━━━━━━━━━\u001b[0m\u001b[90m╺\u001b[0m\u001b[90m━━━━━━━━━━━━━━━━━━━━━━━━━\u001b[0m \u001b[32m81.9/226.7 kB\u001b[0m \u001b[31m2.6 MB/s\u001b[0m eta \u001b[36m0:00:01\u001b[0m\r\u001b[2K     \u001b[90m━━━━━━━━━━━━━━━━━━━━━━━━━━━━━━━━━━━━━━━━\u001b[0m \u001b[32m226.7/226.7 kB\u001b[0m \u001b[31m4.2 MB/s\u001b[0m eta \u001b[36m0:00:00\u001b[0m\n",
            "\u001b[?25hRequirement already satisfied: anyio<5,>=3.5.0 in /usr/local/lib/python3.10/dist-packages (from openai) (3.7.1)\n",
            "Requirement already satisfied: distro<2,>=1.7.0 in /usr/lib/python3/dist-packages (from openai) (1.7.0)\n",
            "Collecting httpx<1,>=0.23.0 (from openai)\n",
            "  Downloading httpx-0.26.0-py3-none-any.whl (75 kB)\n",
            "\u001b[2K     \u001b[90m━━━━━━━━━━━━━━━━━━━━━━━━━━━━━━━━━━━━━━━━\u001b[0m \u001b[32m75.9/75.9 kB\u001b[0m \u001b[31m8.9 MB/s\u001b[0m eta \u001b[36m0:00:00\u001b[0m\n",
            "\u001b[?25hRequirement already satisfied: pydantic<3,>=1.9.0 in /usr/local/lib/python3.10/dist-packages (from openai) (2.6.1)\n",
            "Requirement already satisfied: sniffio in /usr/local/lib/python3.10/dist-packages (from openai) (1.3.0)\n",
            "Requirement already satisfied: tqdm>4 in /usr/local/lib/python3.10/dist-packages (from openai) (4.66.1)\n",
            "Requirement already satisfied: typing-extensions<5,>=4.7 in /usr/local/lib/python3.10/dist-packages (from openai) (4.9.0)\n",
            "Requirement already satisfied: idna>=2.8 in /usr/local/lib/python3.10/dist-packages (from anyio<5,>=3.5.0->openai) (3.6)\n",
            "Requirement already satisfied: exceptiongroup in /usr/local/lib/python3.10/dist-packages (from anyio<5,>=3.5.0->openai) (1.2.0)\n",
            "Requirement already satisfied: certifi in /usr/local/lib/python3.10/dist-packages (from httpx<1,>=0.23.0->openai) (2024.2.2)\n",
            "Collecting httpcore==1.* (from httpx<1,>=0.23.0->openai)\n",
            "  Downloading httpcore-1.0.2-py3-none-any.whl (76 kB)\n",
            "\u001b[2K     \u001b[90m━━━━━━━━━━━━━━━━━━━━━━━━━━━━━━━━━━━━━━━━\u001b[0m \u001b[32m76.9/76.9 kB\u001b[0m \u001b[31m5.0 MB/s\u001b[0m eta \u001b[36m0:00:00\u001b[0m\n",
            "\u001b[?25hCollecting h11<0.15,>=0.13 (from httpcore==1.*->httpx<1,>=0.23.0->openai)\n",
            "  Downloading h11-0.14.0-py3-none-any.whl (58 kB)\n",
            "\u001b[2K     \u001b[90m━━━━━━━━━━━━━━━━━━━━━━━━━━━━━━━━━━━━━━━━\u001b[0m \u001b[32m58.3/58.3 kB\u001b[0m \u001b[31m5.6 MB/s\u001b[0m eta \u001b[36m0:00:00\u001b[0m\n",
            "\u001b[?25hRequirement already satisfied: annotated-types>=0.4.0 in /usr/local/lib/python3.10/dist-packages (from pydantic<3,>=1.9.0->openai) (0.6.0)\n",
            "Requirement already satisfied: pydantic-core==2.16.2 in /usr/local/lib/python3.10/dist-packages (from pydantic<3,>=1.9.0->openai) (2.16.2)\n",
            "Installing collected packages: h11, httpcore, httpx, openai\n",
            "\u001b[31mERROR: pip's dependency resolver does not currently take into account all the packages that are installed. This behaviour is the source of the following dependency conflicts.\n",
            "llmx 0.0.15a0 requires cohere, which is not installed.\n",
            "llmx 0.0.15a0 requires tiktoken, which is not installed.\u001b[0m\u001b[31m\n",
            "\u001b[0mSuccessfully installed h11-0.14.0 httpcore-1.0.2 httpx-0.26.0 openai-1.12.0\n"
          ]
        }
      ]
    },
    {
      "cell_type": "code",
      "source": [
        "from openai import OpenAI\n",
        "client = OpenAI(api_key=api_key)"
      ],
      "metadata": {
        "id": "beJbGDV5Tadk"
      },
      "execution_count": null,
      "outputs": []
    },
    {
      "cell_type": "markdown",
      "source": [
        "## Few-shot learning - prompt"
      ],
      "metadata": {
        "id": "phw1PXQjaHEF"
      }
    },
    {
      "cell_type": "code",
      "source": [
        "prompt_few_shot_learning = \"\"\"\n",
        "  Objective: Solve the following word problems using step-by-step reasoning.\n",
        "  Example 1:\n",
        "  Problem: If a train travels 60 miles in 2 hours, how fast is it going?\n",
        "  Solution: First, find the speed by dividing the distance by the time. Speed = 60 miles / 2 hours = 30 miles per hour. So, the train is going 30 mph.\n",
        "\n",
        "  Example 2:\n",
        "  Problem: A pizza has 8 slices. If you eat 3 slices, how many slices are left?\n",
        "  Solution: Start with the total number of slices. Then subtract the number of slices eaten. Remaining slices = 8 - 3 = 5. So, there are 5 slices left.\n",
        "\n",
        "  Example 3:\n",
        "  Problem: There are 5 apples and you buy 2 more. How many apples do you have now?\n",
        "  Solution: Begin with the initial number of apples. Add the apples you bought. Total apples = 5 + 2 = 7. So, you now have 7 apples.\n",
        "\n",
        "  Now, solve this problem using the same method:\n",
        "  Problem: A car travels 150 miles in 3 hours. How fast is the car going?\n",
        "  \"\"\"\n",
        "\n",
        "response_few_shot_learning = client.chat.completions.create(\n",
        "  model=\"gpt-3.5-turbo\",\n",
        "  messages=[\n",
        "       {\"role\": \"system\", \"content\": \"You are an AI assistant capable to solve math problems analyzing a few examples.\"},\n",
        "       {\"role\": \"user\",  \"content\": prompt_few_shot_learning }],\n",
        "  max_tokens=100\n",
        ")\n",
        "\n",
        "print(response_few_shot_learning.choices[0].message.content)\n"
      ],
      "metadata": {
        "colab": {
          "base_uri": "https://localhost:8080/"
        },
        "id": "j3MiZSlrTjZd",
        "outputId": "73c426a9-8661-4d0f-9365-dd974d7185df"
      },
      "execution_count": null,
      "outputs": [
        {
          "output_type": "stream",
          "name": "stdout",
          "text": [
            "Solution: To find the speed of the car, we divide the distance by the time it takes. \n",
            "\n",
            "Speed = Distance / Time\n",
            "\n",
            "In this case, the car travels 150 miles in 3 hours.\n",
            "\n",
            "So, the speed = 150 miles / 3 hours = 50 miles per hour.\n",
            "\n",
            "Therefore, the car is going 50 mph.\n"
          ]
        }
      ]
    },
    {
      "cell_type": "markdown",
      "source": [
        "## Zero-shot prompt to analyze sentiment and generate JSON response"
      ],
      "metadata": {
        "id": "C8dd-MieaMtA"
      }
    },
    {
      "cell_type": "code",
      "source": [
        "prompt_zero_shot = \"\"\"\n",
        "Objective: Analyze the sentiment of the following Airbnb review and provide the sentiment analysis in JSON format. The JSON result will have the next properties:\n",
        "Sentiment: (Positive or Negative or Neutral)\n",
        "positive: Array of positive sentences in the review.\n",
        "negative: Array of negative sentences in the review.\n",
        "neutral: Array of neutral sentences in the review.\n",
        "main-concern: A word or array of words describing the most negative concern\n",
        "\n",
        "Review: 'The good: apartment is spacious for NYC and the beds comfortable. Centrally located and easy to reach various subway lines. The manager is quick to respond and check in was easy. If you are young and not planning on spending any time other than sleep in the apartment, at the right price this could be an acceptable place to stay.\n",
        "The bad: The building should probably be condemned because the stairwell is a hazard zone structurally. Scheduled a 5 day stay and left after 3 because of safety. The comings and goings in the building were very bizarre, with multiple folks entering who appeared to be in various states of intoxication. One was threatening over the intercom demanding to be let in the building on the 5th floor. Another pounded on a door on 3rd floor and was there for an extended period waiting. Bikes litter hallways, including stolen Citibank bikes. Owner suggested these were delivery people, but carried no packages. Mold in bathroom and towels smell of mold. Not for families.'\n",
        "\"\"\"\n",
        "\n",
        "response_classification_zero_shot = client.chat.completions.create(\n",
        "  model=\"gpt-3.5-turbo\",\n",
        "  messages=[\n",
        "       {\"role\": \"system\", \"content\": \"You are an AI assistant capable to identify sentiments in a text.\"},\n",
        "       {\"role\": \"user\",  \"content\": prompt_zero_shot }],\n",
        "  max_tokens=1000\n",
        ")\n",
        "\n",
        "print(response_classification_zero_shot.choices[0].message.content)"
      ],
      "metadata": {
        "colab": {
          "base_uri": "https://localhost:8080/"
        },
        "id": "9Cb0ADEiWqH0",
        "outputId": "8ddf4dc1-bb24-4cde-86dd-019922204c9b"
      },
      "execution_count": null,
      "outputs": [
        {
          "output_type": "stream",
          "name": "stdout",
          "text": [
            "{\n",
            "  \"Sentiment\": \"Negative\",\n",
            "  \"positive\": [\n",
            "    \"The good: apartment is spacious for NYC and the beds comfortable.\",\n",
            "    \"Centrally located and easy to reach various subway lines.\",\n",
            "    \"The manager is quick to respond and check in was easy.\",\n",
            "    \"If you are young and not planning on spending any time other than sleep in the apartment, at the right price this could be an acceptable place to stay.\"\n",
            "  ],\n",
            "  \"negative\": [\n",
            "    \"The building should probably be condemned because the stairwell is a hazard zone structurally.\",\n",
            "    \"Scheduled a 5 day stay and left after 3 because of safety.\",\n",
            "    \"The comings and goings in the building were very bizarre, with multiple folks entering who appeared to be in various states of intoxication.\",\n",
            "    \"One was threatening over the intercom demanding to be let in the building on the 5th floor.\",\n",
            "    \"Another pounded on a door on 3rd floor and was there for an extended period waiting.\",\n",
            "    \"Bikes litter hallways, including stolen Citibank bikes.\",\n",
            "    \"Owner suggested these were delivery people, but carried no packages.\",\n",
            "    \"Mold in bathroom and towels smell of mold.\",\n",
            "    \"Not for families.\"\n",
            "  ],\n",
            "  \"neutral\": [],\n",
            "  \"main-concern\": [\n",
            "    \"safety\",\n",
            "    \"building condition\",\n",
            "    \"intoxication\",\n",
            "    \"bikes in hallways\",\n",
            "    \"mold in bathroom\",\n",
            "    \"towels smell of mold\"\n",
            "  ]\n",
            "}\n"
          ]
        }
      ]
    }
  ]
}